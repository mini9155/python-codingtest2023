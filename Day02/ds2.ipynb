{
 "cells": [
  {
   "cell_type": "code",
   "execution_count": 22,
   "metadata": {},
   "outputs": [
    {
     "name": "stdout",
     "output_type": "stream",
     "text": [
      "다현->정연->쯔위->사나->지효\n"
     ]
    },
    {
     "ename": "AttributeError",
     "evalue": "'NoneType' object has no attribute 'link'",
     "output_type": "error",
     "traceback": [
      "\u001b[1;31m---------------------------------------------------------------------------\u001b[0m",
      "\u001b[1;31mAttributeError\u001b[0m                            Traceback (most recent call last)",
      "Cell \u001b[1;32mIn[22], line 60\u001b[0m\n\u001b[0;32m     57\u001b[0m     pre\u001b[39m.\u001b[39mlink \u001b[39m=\u001b[39m node\n\u001b[0;32m     58\u001b[0m     memory\u001b[39m.\u001b[39mappend(node)\n\u001b[1;32m---> 60\u001b[0m printnodes(head) \u001b[39m# 전체 출력\u001b[39;00m\n\u001b[0;32m     62\u001b[0m insertnode(\u001b[39m'\u001b[39m\u001b[39m다현\u001b[39m\u001b[39m'\u001b[39m, \u001b[39m'\u001b[39m\u001b[39m화사\u001b[39m\u001b[39m'\u001b[39m)\n\u001b[0;32m     63\u001b[0m printnodes(head)\n",
      "Cell \u001b[1;32mIn[22], line 19\u001b[0m, in \u001b[0;36mprintnodes\u001b[1;34m(start)\u001b[0m\n\u001b[0;32m     17\u001b[0m \u001b[39mwhile\u001b[39;00m current \u001b[39m!=\u001b[39m \u001b[39mNone\u001b[39;00m:\n\u001b[0;32m     18\u001b[0m     current \u001b[39m=\u001b[39m current\u001b[39m.\u001b[39mlink\n\u001b[1;32m---> 19\u001b[0m     \u001b[39mif\u001b[39;00m current\u001b[39m.\u001b[39;49mlink \u001b[39m==\u001b[39m \u001b[39mNone\u001b[39;00m:\n\u001b[0;32m     20\u001b[0m         \u001b[39mprint\u001b[39m(current\u001b[39m.\u001b[39mdata)\n\u001b[0;32m     21\u001b[0m     \u001b[39melse\u001b[39;00m:\n",
      "\u001b[1;31mAttributeError\u001b[0m: 'NoneType' object has no attribute 'link'"
     ]
    }
   ],
   "source": [
    "class Node():\n",
    "    def __init__(self) -> None:\n",
    "        self.data = None\n",
    "        self.link = None\n",
    "\n",
    "#전역변수\n",
    "memory = []\n",
    "head, current, pre = None, None, None\n",
    "dataarray = ['다현','정연','쯔위','사나','지효']\n",
    "\n",
    "def printnodes(start):\n",
    "    current = start\n",
    "    if current == None:\n",
    "        return\n",
    "\n",
    "    print(current.data, end = '->')\n",
    "    while current != None:\n",
    "        current = current.link\n",
    "        if current.link == None:\n",
    "            print(current.data)\n",
    "        else:\n",
    "            print(current.data , end = '->')\n",
    "\n",
    "#노드 추가\n",
    "def insertnode(finddata, insertdata):\n",
    "    global memory, pre, current, head\n",
    "    \n",
    "    if head.data == finddata: # 첫 노드 삽입\n",
    "        node = Node()\n",
    "        node.data = insertdata\n",
    "        node.link = head\n",
    "        head = node \n",
    "        return\n",
    "    current = head # 제일 앞으로\n",
    "    while current.link != None: # 중간노드 추가\n",
    "        pre = current # pre는 current와 같아\n",
    "        current = current.link # 하나 더 뒤로 가기\n",
    "\n",
    "        if current.data == finddata:\n",
    "            node = Node()\n",
    "            node.data = insertdata\n",
    "            node.link = current # 노드의 링크는 current\n",
    "            pre.link = node # 중간에 들어감 \n",
    "            return\n",
    "        #currunt.link == None 까지 온 것\n",
    "\n",
    "if __name__ == \"__main__\":\n",
    "    node = Node()\n",
    "    node.data = dataarray[0] # 다현\n",
    "    head = node\n",
    "    memory.append(node) # 메모리에 노드 추가\n",
    "\n",
    "    for data in dataarray[1:]: # 두 번째 노드 이후 4번 반복\n",
    "        pre = node\n",
    "        node = Node()\n",
    "        node.data = data # 정연, 쯔위, 사나, 지효 순\n",
    "        pre.link = node\n",
    "        memory.append(node)\n",
    "\n",
    "    printnodes(head) # 전체 출력\n",
    "\n",
    "    insertnode('다현', '화사')\n",
    "    printnodes(head)\n",
    "\n",
    "    insertnode('사나', '솔라')\n",
    "    printnodes(head)\n",
    "    insertnode('재남', '문별')\n",
    "    printnodes(head)"
   ]
  }
 ],
 "metadata": {
  "kernelspec": {
   "display_name": "Python 3",
   "language": "python",
   "name": "python3"
  },
  "language_info": {
   "codemirror_mode": {
    "name": "ipython",
    "version": 3
   },
   "file_extension": ".py",
   "mimetype": "text/x-python",
   "name": "python",
   "nbconvert_exporter": "python",
   "pygments_lexer": "ipython3",
   "version": "3.11.1"
  },
  "orig_nbformat": 4,
  "vscode": {
   "interpreter": {
    "hash": "a3d8f53f1429d27b792a3789224562ddd32c1395c9a9cfbb17b3c19c3b9a493d"
   }
  }
 },
 "nbformat": 4,
 "nbformat_minor": 2
}
