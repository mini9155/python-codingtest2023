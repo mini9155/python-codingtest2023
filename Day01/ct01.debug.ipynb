{
 "cells": [
  {
   "cell_type": "code",
   "execution_count": 30,
   "metadata": {},
   "outputs": [
    {
     "name": "stdout",
     "output_type": "stream",
     "text": [
      "59\n"
     ]
    }
   ],
   "source": [
    "import random\n",
    "findnumber = random.randrange(1,101) # 1 ~ 100의 값 랜덤 생ㅅㅇ\n",
    "for i in range(1,101):\n",
    "    if i == findnumber:\n",
    "        print (i)\n",
    "        break"
   ]
  },
  {
   "cell_type": "code",
   "execution_count": 43,
   "metadata": {},
   "outputs": [
    {
     "name": "stdout",
     "output_type": "stream",
     "text": [
      "연산 횟수1\n",
      "연산 횟수2\n",
      "연산 횟수3\n",
      "연산 횟수4\n",
      "연산 횟수5\n",
      "연산 횟수6\n",
      "연산 횟수7\n",
      "연산 횟수8\n",
      "연산 횟수9\n",
      "연산 횟수10\n",
      "연산 횟수11\n",
      "연산 횟수12\n",
      "연산 횟수13\n",
      "연산 횟수14\n",
      "연산 횟수15\n",
      "연산 횟수16\n",
      "연산 횟수17\n",
      "연산 횟수18\n",
      "연산 횟수19\n",
      "연산 횟수20\n",
      "연산 횟수21\n",
      "연산 횟수22\n",
      "연산 횟수23\n",
      "연산 횟수24\n",
      "연산 횟수25\n",
      "연산 횟수26\n",
      "연산 횟수27\n",
      "연산 횟수28\n",
      "연산 횟수29\n",
      "연산 횟수30\n",
      "연산 횟수31\n",
      "연산 횟수32\n",
      "연산 횟수33\n",
      "연산 횟수34\n",
      "연산 횟수35\n",
      "연산 횟수36\n",
      "연산 횟수37\n",
      "연산 횟수38\n",
      "연산 횟수39\n",
      "연산 횟수40\n",
      "연산 횟수41\n",
      "연산 횟수42\n",
      "연산 횟수43\n",
      "연산 횟수44\n",
      "연산 횟수45\n",
      "연산 횟수46\n",
      "연산 횟수47\n",
      "연산 횟수48\n",
      "연산 횟수49\n",
      "연산 횟수50\n",
      "연산 횟수51\n",
      "연산 횟수52\n",
      "연산 횟수53\n",
      "연산 횟수54\n",
      "연산 횟수55\n",
      "연산 횟수56\n",
      "연산 횟수57\n",
      "연산 횟수58\n",
      "연산 횟수59\n",
      "연산 횟수60\n",
      "연산 횟수61\n",
      "연산 횟수62\n",
      "연산 횟수63\n",
      "연산 횟수64\n",
      "연산 횟수65\n",
      "연산 횟수66\n",
      "연산 횟수67\n",
      "연산 횟수68\n",
      "연산 횟수69\n",
      "연산 횟수70\n",
      "연산 횟수71\n",
      "연산 횟수72\n",
      "연산 횟수73\n",
      "연산 횟수74\n",
      "연산 횟수75\n",
      "연산 횟수76\n",
      "연산 횟수77\n",
      "연산 횟수78\n",
      "연산 횟수79\n",
      "연산 횟수80\n",
      "연산 횟수81\n",
      "연산 횟수82\n",
      "연산 횟수83\n",
      "연산 횟수84\n",
      "연산 횟수85\n",
      "연산 횟수86\n",
      "연산 횟수87\n",
      "연산 횟수88\n",
      "연산 횟수89\n",
      "연산 횟수90\n",
      "연산 횟수91\n",
      "연산 횟수92\n",
      "연산 횟수93\n",
      "연산 횟수94\n",
      "연산 횟수95\n",
      "연산 횟수96\n",
      "연산 횟수97\n",
      "연산 횟수98\n",
      "연산 횟수99\n",
      "연산 횟수100\n"
     ]
    }
   ],
   "source": [
    "N = 100\n",
    "cnt = 1\n",
    "\n",
    "for i in range(N):\n",
    "    print(\"연산 횟수\" + str(cnt))\n",
    "    cnt += 1"
   ]
  },
  {
   "cell_type": "code",
   "execution_count": 4,
   "metadata": {},
   "outputs": [
    {
     "name": "stdout",
     "output_type": "stream",
     "text": [
      "1 = 136\n"
     ]
    }
   ],
   "source": [
    "import random\n",
    "\n",
    "testcase = int(input()) # 횟수\n",
    "answer = 0\n",
    "A = [0] * (100001) # 10만개의 리스트\n",
    "\n",
    "for i in range(0, 100001): # 10001은 0개수를 잘못\n",
    "    A[i] =random.randrange(1,101)\n",
    "\n",
    "for t in range(1,testcase+1):\n",
    "    answer = 0 #! 초기화 문제 해결\n",
    "    start, end = map(int, input().split())\n",
    "\n",
    "    for i in range(start, end + 1):\n",
    "        answer = answer + A[i]\n",
    "\n",
    "#결과값이 정수로 나올려면 / 대신 //\n",
    "print(f'{t} = {answer//2}')"
   ]
  },
  {
   "attachments": {},
   "cell_type": "markdown",
   "metadata": {},
   "source": [
    "## 오류 찾기\n",
    "- answer 초기화\n",
    "\n",
    "## 예외 2\n",
    "- 배열 범위 잘못 입력\n",
    "\n",
    "## 예외 3\n",
    "- 변수를 잘못 사용 -> 결과가 다르게 나옴\n",
    "\n",
    "## 예외 4\n",
    "- 형변환 때문에 실수로 나온 것(나누기 연산자)"
   ]
  }
 ],
 "metadata": {
  "kernelspec": {
   "display_name": "Python 3",
   "language": "python",
   "name": "python3"
  },
  "language_info": {
   "codemirror_mode": {
    "name": "ipython",
    "version": 3
   },
   "file_extension": ".py",
   "mimetype": "text/x-python",
   "name": "python",
   "nbconvert_exporter": "python",
   "pygments_lexer": "ipython3",
   "version": "3.11.1"
  },
  "orig_nbformat": 4,
  "vscode": {
   "interpreter": {
    "hash": "a3d8f53f1429d27b792a3789224562ddd32c1395c9a9cfbb17b3c19c3b9a493d"
   }
  }
 },
 "nbformat": 4,
 "nbformat_minor": 2
}
