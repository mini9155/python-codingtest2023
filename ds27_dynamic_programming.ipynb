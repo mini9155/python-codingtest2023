{
 "cells": [
  {
   "attachments": {},
   "cell_type": "markdown",
   "metadata": {},
   "source": [
    "### 동적 프로그래밍"
   ]
  },
  {
   "cell_type": "code",
   "execution_count": 10,
   "metadata": {},
   "outputs": [],
   "source": [
    "# 전역변수\n",
    "maxweight = 7 # 배낭 최대무게\n",
    "rowcount = 4 # 보석숫자\n",
    "weight = [0,6,4,3,5] # 0,금괴,수정,루비,진주\n",
    "money = [0,13,8,6,12]\n",
    "def knapsack():\n",
    "    print('## 메모이제이션 배열 ##')\n",
    "    array = [[0 for _ in range(maxweight+1)] for _ in range(rowcount+1)]\n",
    "\n",
    "    for row in range(1,rowcount+1): #4번\n",
    "        print(row, '개-->', end= ' ')\n",
    "        for col in range(1,maxweight+1):#1kg ~ 7kg\n",
    "            if weight[row] > col: #row의 무게가 col보다 크면 /가방에 안 들어가면\n",
    "                array[row][col] = array[row-1][col]\n",
    "            else: #물건무게가 작으면\n",
    "                value1 = money[row] + array[row-1][col-weight[row]]\n",
    "                value2 = array[row-1][col]\n",
    "                array[row][col] = max(value1, value2)\n",
    "            print(f'{array[row][col]}',end=' ')\n",
    "        print()\n",
    "\n",
    "    return array[rowcount][maxweight]"
   ]
  },
  {
   "cell_type": "code",
   "execution_count": 12,
   "metadata": {},
   "outputs": [
    {
     "name": "stdout",
     "output_type": "stream",
     "text": [
      "## 메모이제이션 배열 ##\n",
      "1 개--> 0 0 0 0 0 13 13 \n",
      "2 개--> 0 0 0 8 8 13 13 \n",
      "3 개--> 0 0 6 8 8 13 14 \n",
      "4 개--> 0 0 6 8 12 13 14 \n"
     ]
    },
    {
     "data": {
      "text/plain": [
       "14"
      ]
     },
     "execution_count": 12,
     "metadata": {},
     "output_type": "execute_result"
    }
   ],
   "source": [
    "knapsack()"
   ]
  },
  {
   "cell_type": "code",
   "execution_count": 8,
   "metadata": {},
   "outputs": [
    {
     "name": "stdout",
     "output_type": "stream",
     "text": [
      "피보나치 수 --> 0 1 1 2 3 5 8 13 21 34 55 89 144 233 377 610 987 1597 2584 4181 6765 10946 17711 28657 46368 75025 121393 196418 317811 514229 832040 1346269 2178309 3524578 5702887 9227465 14930352 24157817 39088169 63245986 102334155 165580141 267914296 433494437 701408733 1134903170 1836311903 2971215073 4807526976 7778742049 12586269025 20365011074 32951280099 53316291173 86267571272 139583862445 225851433717 365435296162 591286729879 956722026041 1548008755920 2504730781961 4052739537881 6557470319842 10610209857723 17167680177565 27777890035288 44945570212853 72723460248141 117669030460994 190392490709135 308061521170129 498454011879264 806515533049393 1304969544928657 2111485077978050 3416454622906707 5527939700884757 8944394323791464 14472334024676221 23416728348467685 37889062373143906 61305790721611591 99194853094755497 160500643816367088 259695496911122585 420196140727489673 679891637638612258 1100087778366101931 1779979416004714189 2880067194370816120 4660046610375530309 7540113804746346429 12200160415121876738 19740274219868223167 31940434634990099905 51680708854858323072 83621143489848422977 135301852344706746049 218922995834555169026 "
     ]
    },
    {
     "ename": "IndexError",
     "evalue": "list index out of range",
     "output_type": "error",
     "traceback": [
      "\u001b[1;31m---------------------------------------------------------------------------\u001b[0m",
      "\u001b[1;31mIndexError\u001b[0m                                Traceback (most recent call last)",
      "Cell \u001b[1;32mIn[8], line 15\u001b[0m\n\u001b[0;32m     13\u001b[0m \u001b[39mprint\u001b[39m(\u001b[39m'\u001b[39m\u001b[39m피보나치 수 --> 0 1\u001b[39m\u001b[39m'\u001b[39m,end\u001b[39m=\u001b[39m\u001b[39m'\u001b[39m\u001b[39m \u001b[39m\u001b[39m'\u001b[39m)\n\u001b[0;32m     14\u001b[0m \u001b[39mfor\u001b[39;00m i \u001b[39min\u001b[39;00m \u001b[39mrange\u001b[39m(\u001b[39m2\u001b[39m, \u001b[39m10000\u001b[39m):\n\u001b[1;32m---> 15\u001b[0m     \u001b[39mprint\u001b[39m(fibonicci(i),end\u001b[39m=\u001b[39m\u001b[39m'\u001b[39m\u001b[39m \u001b[39m\u001b[39m'\u001b[39m)\n",
      "Cell \u001b[1;32mIn[8], line 8\u001b[0m, in \u001b[0;36mfibonicci\u001b[1;34m(n)\u001b[0m\n\u001b[0;32m      5\u001b[0m \u001b[39mdef\u001b[39;00m \u001b[39mfibonicci\u001b[39m(n):\n\u001b[0;32m      6\u001b[0m     \u001b[39mif\u001b[39;00m n \u001b[39m==\u001b[39m\u001b[39m0\u001b[39m \u001b[39mor\u001b[39;00m n \u001b[39m==\u001b[39m\u001b[39m1\u001b[39m \u001b[39mor\u001b[39;00m n \u001b[39m==\u001b[39m\u001b[39m2\u001b[39m: \u001b[39mreturn\u001b[39;00m \u001b[39m1\u001b[39m\n\u001b[1;32m----> 8\u001b[0m     \u001b[39mif\u001b[39;00m d[n] \u001b[39m!=\u001b[39m \u001b[39m0\u001b[39m: \u001b[39mreturn\u001b[39;00m d[n]\n\u001b[0;32m     10\u001b[0m     d[n] \u001b[39m=\u001b[39m fibonicci(n\u001b[39m-\u001b[39m\u001b[39m1\u001b[39m) \u001b[39m+\u001b[39m fibonicci(n\u001b[39m-\u001b[39m\u001b[39m2\u001b[39m)\n\u001b[0;32m     11\u001b[0m     \u001b[39mreturn\u001b[39;00m d[n]\n",
      "\u001b[1;31mIndexError\u001b[0m: list index out of range"
     ]
    }
   ],
   "source": [
    "# 한 번 계산된 결과를 메모이제이션\n",
    "\n",
    "d = [0] * 100\n",
    "\n",
    "def fibonicci(n):\n",
    "    if n ==0 or n ==1 or n ==2: return 1\n",
    "\n",
    "    if d[n] != 0: return d[n]\n",
    "\n",
    "    d[n] = fibonicci(n-1) + fibonicci(n-2)\n",
    "    return d[n]\n",
    "\n",
    "print('피보나치 수 --> 0 1',end=' ')\n",
    "for i in range(2, 10000):\n",
    "    print(fibonicci(i),end=' ')\n"
   ]
  },
  {
   "cell_type": "code",
   "execution_count": null,
   "metadata": {},
   "outputs": [],
   "source": []
  }
 ],
 "metadata": {
  "kernelspec": {
   "display_name": "Python 3",
   "language": "python",
   "name": "python3"
  },
  "language_info": {
   "codemirror_mode": {
    "name": "ipython",
    "version": 3
   },
   "file_extension": ".py",
   "mimetype": "text/x-python",
   "name": "python",
   "nbconvert_exporter": "python",
   "pygments_lexer": "ipython3",
   "version": "3.11.1"
  },
  "orig_nbformat": 4,
  "vscode": {
   "interpreter": {
    "hash": "a3d8f53f1429d27b792a3789224562ddd32c1395c9a9cfbb17b3c19c3b9a493d"
   }
  }
 },
 "nbformat": 4,
 "nbformat_minor": 2
}
