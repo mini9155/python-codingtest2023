{
 "cells": [
  {
   "cell_type": "code",
   "execution_count": 19,
   "metadata": {},
   "outputs": [
    {
     "ename": "TclError",
     "evalue": "image \"pyimage13\" doesn't exist",
     "output_type": "error",
     "traceback": [
      "\u001b[1;31m---------------------------------------------------------------------------\u001b[0m",
      "\u001b[1;31mTclError\u001b[0m                                  Traceback (most recent call last)",
      "Cell \u001b[1;32mIn[19], line 35\u001b[0m\n\u001b[0;32m     32\u001b[0m         pos \u001b[39m+\u001b[39m\u001b[39m=\u001b[39m \u001b[39m1\u001b[39m\n\u001b[0;32m     33\u001b[0m         photo\u001b[39m.\u001b[39mput(\u001b[39m'\u001b[39m\u001b[39m#\u001b[39m\u001b[39m%02x\u001b[39;00m\u001b[39m%02x\u001b[39;00m\u001b[39m%02x\u001b[39;00m\u001b[39m'\u001b[39m \u001b[39m%\u001b[39m (r,g,b), (i,j))\n\u001b[1;32m---> 35\u001b[0m paper \u001b[39m=\u001b[39m Label(window, image\u001b[39m=\u001b[39;49mphoto)\n\u001b[0;32m     36\u001b[0m paper\u001b[39m.\u001b[39mpack(expand\u001b[39m=\u001b[39m\u001b[39m1\u001b[39m, anchor\u001b[39m=\u001b[39mCENTER)\n\u001b[0;32m     38\u001b[0m window\u001b[39m.\u001b[39mmainloop()\n",
      "File \u001b[1;32mc:\\DEV\\Langs\\Python311\\Lib\\tkinter\\__init__.py:3214\u001b[0m, in \u001b[0;36mLabel.__init__\u001b[1;34m(self, master, cnf, **kw)\u001b[0m\n\u001b[0;32m   3196\u001b[0m \u001b[39mdef\u001b[39;00m \u001b[39m__init__\u001b[39m(\u001b[39mself\u001b[39m, master\u001b[39m=\u001b[39m\u001b[39mNone\u001b[39;00m, cnf\u001b[39m=\u001b[39m{}, \u001b[39m*\u001b[39m\u001b[39m*\u001b[39mkw):\n\u001b[0;32m   3197\u001b[0m \u001b[39m    \u001b[39m\u001b[39m\"\"\"Construct a label widget with the parent MASTER.\u001b[39;00m\n\u001b[0;32m   3198\u001b[0m \n\u001b[0;32m   3199\u001b[0m \u001b[39m    STANDARD OPTIONS\u001b[39;00m\n\u001b[1;32m   (...)\u001b[0m\n\u001b[0;32m   3212\u001b[0m \n\u001b[0;32m   3213\u001b[0m \u001b[39m    \"\"\"\u001b[39;00m\n\u001b[1;32m-> 3214\u001b[0m     Widget\u001b[39m.\u001b[39;49m\u001b[39m__init__\u001b[39;49m(\u001b[39mself\u001b[39;49m, master, \u001b[39m'\u001b[39;49m\u001b[39mlabel\u001b[39;49m\u001b[39m'\u001b[39;49m, cnf, kw)\n",
      "File \u001b[1;32mc:\\DEV\\Langs\\Python311\\Lib\\tkinter\\__init__.py:2628\u001b[0m, in \u001b[0;36mBaseWidget.__init__\u001b[1;34m(self, master, widgetName, cnf, kw, extra)\u001b[0m\n\u001b[0;32m   2626\u001b[0m \u001b[39mfor\u001b[39;00m k, v \u001b[39min\u001b[39;00m classes:\n\u001b[0;32m   2627\u001b[0m     \u001b[39mdel\u001b[39;00m cnf[k]\n\u001b[1;32m-> 2628\u001b[0m \u001b[39mself\u001b[39;49m\u001b[39m.\u001b[39;49mtk\u001b[39m.\u001b[39;49mcall(\n\u001b[0;32m   2629\u001b[0m     (widgetName, \u001b[39mself\u001b[39;49m\u001b[39m.\u001b[39;49m_w) \u001b[39m+\u001b[39;49m extra \u001b[39m+\u001b[39;49m \u001b[39mself\u001b[39;49m\u001b[39m.\u001b[39;49m_options(cnf))\n\u001b[0;32m   2630\u001b[0m \u001b[39mfor\u001b[39;00m k, v \u001b[39min\u001b[39;00m classes:\n\u001b[0;32m   2631\u001b[0m     k\u001b[39m.\u001b[39mconfigure(\u001b[39mself\u001b[39m, v)\n",
      "\u001b[1;31mTclError\u001b[0m: image \"pyimage13\" doesn't exist"
     ]
    }
   ],
   "source": [
    "from tkinter import *\n",
    "\n",
    "window = Tk()\n",
    "window.geometry('500x500')\n",
    "\n",
    "photo = PhotoImage(file='C:/dog.png')\n",
    "\n",
    "photoary = []\n",
    "h = photo.height()\n",
    "w = photo.width()\n",
    "\n",
    "#칼라 이미지를 그레이 이미지로\n",
    "for i in range(h): # 500\n",
    "    for j in range(w): # 500\n",
    "        r, g, b = photo.get(i,j)\n",
    "        value = (r+g+b) //3\n",
    "        photoary.append(value)\n",
    "\n",
    "#그레이 이미지를 흑백 이미지로\n",
    "\n",
    "for i in range(len(photoary)):\n",
    "    if photoary[i] <= 127:\n",
    "        photoary[i] = 0\n",
    "    else:\n",
    "        photoary[i] = 255\n",
    "pos = 0\n",
    "for i in range(h):\n",
    "    for j in range(w):\n",
    "        r = g = b = photoary[pos]\n",
    "        pos += 1\n",
    "        photo.put('#%02x%02x%02x' % (r,g,b), (i,j))\n",
    "\n",
    "paper = Label(window, image=photo)\n",
    "paper.pack(expand=1, anchor=CENTER)\n",
    "\n",
    "window.mainloop()"
   ]
  }
 ],
 "metadata": {
  "kernelspec": {
   "display_name": "Python 3",
   "language": "python",
   "name": "python3"
  },
  "language_info": {
   "codemirror_mode": {
    "name": "ipython",
    "version": 3
   },
   "file_extension": ".py",
   "mimetype": "text/x-python",
   "name": "python",
   "nbconvert_exporter": "python",
   "pygments_lexer": "ipython3",
   "version": "3.11.1"
  },
  "orig_nbformat": 4,
  "vscode": {
   "interpreter": {
    "hash": "a3d8f53f1429d27b792a3789224562ddd32c1395c9a9cfbb17b3c19c3b9a493d"
   }
  }
 },
 "nbformat": 4,
 "nbformat_minor": 2
}
