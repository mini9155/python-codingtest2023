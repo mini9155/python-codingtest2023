{
 "cells": [
  {
   "cell_type": "code",
   "execution_count": 2,
   "metadata": {},
   "outputs": [],
   "source": [
    "def binsearch(ary, fdata):\n",
    "    pos = -1\n",
    "    start = 0\n",
    "    end = len(ary) -1\n",
    "\n",
    "    while (start <= end):\n",
    "        mid = (start + end) // 2\n",
    "        if fdata == ary[mid]:\n",
    "            return mid\n",
    "        elif fdata > ary[mid]:\n",
    "            start = mid + 1 # 왼쪽값 다 버림\n",
    "        else:\n",
    "            end = mid - 1 # 오른쪽값 다 버림\n",
    "\n",
    "    return pos # 값 못 찾음"
   ]
  },
  {
   "cell_type": "code",
   "execution_count": 10,
   "metadata": {},
   "outputs": [
    {
     "name": "stdout",
     "output_type": "stream",
     "text": [
      "전체 배열 --> [50, 60, 1058, 120, 150, 160, 162, 168, 177, 188]\n",
      "181 없어요\n"
     ]
    }
   ],
   "source": [
    "dataary = [50,60,1058,120,150,160,162,168,177,188]\n",
    "finddata = 181\n",
    "\n",
    "\n",
    "print('전체 배열 -->', dataary)\n",
    "position = binsearch(dataary,finddata)\n",
    "if position == -1:\n",
    "    print(finddata, '없어요')\n",
    "else:\n",
    "    print(finddata, position, '위치에 있음')"
   ]
  }
 ],
 "metadata": {
  "kernelspec": {
   "display_name": "Python 3",
   "language": "python",
   "name": "python3"
  },
  "language_info": {
   "codemirror_mode": {
    "name": "ipython",
    "version": 3
   },
   "file_extension": ".py",
   "mimetype": "text/x-python",
   "name": "python",
   "nbconvert_exporter": "python",
   "pygments_lexer": "ipython3",
   "version": "3.11.1"
  },
  "orig_nbformat": 4,
  "vscode": {
   "interpreter": {
    "hash": "a3d8f53f1429d27b792a3789224562ddd32c1395c9a9cfbb17b3c19c3b9a493d"
   }
  }
 },
 "nbformat": 4,
 "nbformat_minor": 2
}
